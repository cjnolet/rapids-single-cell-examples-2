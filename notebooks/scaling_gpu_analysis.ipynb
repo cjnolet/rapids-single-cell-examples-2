{
 "cells": [
  {
   "cell_type": "markdown",
   "metadata": {},
   "source": [
    "# Exploratory Analysis of scRNA Datasets & GPU Scaling"
   ]
  },
  {
   "cell_type": "markdown",
   "metadata": {},
   "source": [
    "Copyright (c) 2020, NVIDIA CORPORATION.  All rights reserved.\n",
    "\n",
    "NVIDIA CORPORATION and its licensors retain all intellectual property\n",
    "and proprietary rights in and to this software, related documentation\n",
    "and any modifications thereto.  Any use, reproduction, disclosure or\n",
    "distribution of this software and related documentation without an express\n",
    "license agreement from NVIDIA CORPORATION is strictly prohibited."
   ]
  },
  {
   "cell_type": "markdown",
   "metadata": {},
   "source": [
    "This notebook demonstrates an exploratory single-cell RNA analysis workflow that begins with preprocessing a count matrix of size `(n_gene, n_cell)` and results in a visualization of the clustered cells for further analysis."
   ]
  },
  {
   "cell_type": "markdown",
   "metadata": {},
   "source": [
    "## Import requirements"
   ]
  },
  {
   "cell_type": "code",
   "execution_count": 1,
   "metadata": {},
   "outputs": [],
   "source": [
    "import numpy as np\n",
    "import scanpy as sc\n",
    "import anndata\n",
    "\n",
    "import sys\n",
    "import time\n",
    "import os\n",
    "\n",
    "import cudf\n",
    "\n",
    "\n",
    "import cupy as cp\n",
    "\n",
    "from cuml.decomposition import PCA\n",
    "from cuml.manifold import TSNE\n",
    "from cuml.cluster import KMeans\n",
    "\n",
    "\n",
    "import tables\n",
    "\n",
    "import rapids_scanpy_funcs\n",
    "\n",
    "import warnings\n",
    "\n",
    "warnings.filterwarnings('ignore', 'Expected column ')"
   ]
  },
  {
   "cell_type": "code",
   "execution_count": 2,
   "metadata": {},
   "outputs": [
    {
     "name": "stderr",
     "output_type": "stream",
     "text": [
      "/raid/cnolet/miniconda3/envs/genomics2/lib/python3.7/site-packages/distributed/node.py:244: UserWarning: Port 8787 is already in use.\n",
      "Perhaps you already have a cluster running?\n",
      "Hosting the HTTP server on port 41339 instead\n",
      "  http_address[\"port\"], self.http_server.port\n"
     ]
    },
    {
     "data": {
      "text/html": [
       "<table style=\"border: 2px solid white;\">\n",
       "<tr>\n",
       "<td style=\"vertical-align: top; border: 0px solid white\">\n",
       "<h3 style=\"text-align: left;\">Client</h3>\n",
       "<ul style=\"text-align: left; list-style: none; margin: 0; padding: 0;\">\n",
       "  <li><b>Scheduler: </b>tcp://127.0.0.1:43757</li>\n",
       "  <li><b>Dashboard: </b><a href='http://127.0.0.1:41339/status' target='_blank'>http://127.0.0.1:41339/status</a></li>\n",
       "</ul>\n",
       "</td>\n",
       "<td style=\"vertical-align: top; border: 0px solid white\">\n",
       "<h3 style=\"text-align: left;\">Cluster</h3>\n",
       "<ul style=\"text-align: left; list-style:none; margin: 0; padding: 0;\">\n",
       "  <li><b>Workers: </b>8</li>\n",
       "  <li><b>Cores: </b>8</li>\n",
       "  <li><b>Memory: </b>1.08 TB</li>\n",
       "</ul>\n",
       "</td>\n",
       "</tr>\n",
       "</table>"
      ],
      "text/plain": [
       "<Client: 'tcp://127.0.0.1:43757' processes=8 threads=8, memory=1.08 TB>"
      ]
     },
     "execution_count": 2,
     "metadata": {},
     "output_type": "execute_result"
    }
   ],
   "source": [
    "from dask_cuda import LocalCUDACluster\n",
    "from dask.distributed import Client\n",
    "\n",
    "cluster = LocalCUDACluster()\n",
    "client = Client(cluster)\n",
    "client"
   ]
  },
  {
   "cell_type": "markdown",
   "metadata": {},
   "source": [
    "## Set parameters"
   ]
  },
  {
   "cell_type": "code",
   "execution_count": 3,
   "metadata": {},
   "outputs": [],
   "source": [
    "# marker genes\n",
    "RIBO_GENE_PREFIX = \"RPS\" # Prefix for ribosomal genes to regress out\n",
    "markers = [\"ACE2\", \"TMPRSS2\", \"EPCAM\"] # Marker genes for visualization\n",
    "\n",
    "# filtering cells\n",
    "min_genes_per_cell = 200 # Filter out cells with fewer genes than this expressed \n",
    "max_genes_per_cell = 6000 # Filter out cells with more genes than this expressed \n",
    "\n",
    "# filtering genes\n",
    "n_top_genes = 5000 # Number of highly variable genes to retain\n",
    "\n",
    "# PCA\n",
    "n_components = 50 # Number of principal components to compute\n",
    "\n",
    "# t-SNE\n",
    "tsne_n_pcs = 20 # Number of principal components to use for t-SNE\n",
    "\n",
    "# k-means\n",
    "k = 20 # Number of clusters for k-means\n",
    "\n",
    "# KNN\n",
    "n_neighbors = 15 # Number of nearest neighbors for KNN graph\n",
    "knn_n_pcs = 50 # Number of principal components to use for finding nearest neighbors\n",
    "\n",
    "# UMAP\n",
    "umap_min_dist = 0.3 \n",
    "umap_spread = 1.0\n",
    "\n",
    "# Louvain\n",
    "louvain_resolution = 0.4\n",
    "\n",
    "# Gene ranking\n",
    "ranking_n_top_genes = 50 # Number of differential genes to compute for each cluster"
   ]
  },
  {
   "cell_type": "code",
   "execution_count": 4,
   "metadata": {},
   "outputs": [],
   "source": [
    "start = time.time()"
   ]
  },
  {
   "cell_type": "markdown",
   "metadata": {},
   "source": [
    "## Load and Prepare Data"
   ]
  },
  {
   "cell_type": "markdown",
   "metadata": {},
   "source": [
    "We load the sparse count matrix from an `h5ad` file using Scanpy. The sparse count matrix will then be placed on the GPU. \n",
    " \n",
    "To convert your CSV file into an `h5ad` file, see `csv_to_h5ad.ipynb`"
   ]
  },
  {
   "cell_type": "code",
   "execution_count": 5,
   "metadata": {},
   "outputs": [],
   "source": [
    "one_mil_file = \"../1M_neurons_filtered_gene_bc_matrices_h5.h5\""
   ]
  },
  {
   "cell_type": "code",
   "execution_count": 6,
   "metadata": {},
   "outputs": [],
   "source": [
    "import h5py\n",
    "\n",
    "f = h5py.File(one_mil_file, mode=\"r\")"
   ]
  },
  {
   "cell_type": "code",
   "execution_count": 7,
   "metadata": {},
   "outputs": [],
   "source": [
    "dset = f[\"mm10\"]\n",
    "columnptr = dset[\"indptr\"][:]"
   ]
  },
  {
   "cell_type": "code",
   "execution_count": 8,
   "metadata": {},
   "outputs": [
    {
     "name": "stdout",
     "output_type": "stream",
     "text": [
      "NNZ: 2624828308\n"
     ]
    }
   ],
   "source": [
    "nnz = columnptr[-1]\n",
    "print(\"NNZ: %s\" % nnz)"
   ]
  },
  {
   "cell_type": "code",
   "execution_count": 9,
   "metadata": {},
   "outputs": [
    {
     "name": "stdout",
     "output_type": "stream",
     "text": [
      "Shape: [  27998 1306127]\n"
     ]
    }
   ],
   "source": [
    "print(\"Shape: %s\" % (dset[\"shape\"][:]))"
   ]
  },
  {
   "cell_type": "code",
   "execution_count": 10,
   "metadata": {},
   "outputs": [
    {
     "name": "stdout",
     "output_type": "stream",
     "text": [
      "Density: 0.0717775259310603\n"
     ]
    }
   ],
   "source": [
    "print(\"Density: %s\" % (dset[\"data\"].shape[0] / np.product(dset[\"shape\"][:])))"
   ]
  },
  {
   "cell_type": "code",
   "execution_count": 11,
   "metadata": {},
   "outputs": [
    {
     "data": {
      "text/plain": [
       "<matplotlib.axes._subplots.AxesSubplot at 0x7fed0c3d4750>"
      ]
     },
     "execution_count": 11,
     "metadata": {},
     "output_type": "execute_result"
    },
    {
     "data": {
      "image/png": "[encoded data removed]",
      "text/plain": [
       "<Figure size 432x288 with 1 Axes>"
      ]
     },
     "metadata": {
      "needs_background": "light"
     },
     "output_type": "display_data"
    }
   ],
   "source": [
    "import seaborn as sns\n",
    "sns.distplot(np.diff(columnptr))"
   ]
  },
  {
   "cell_type": "code",
   "execution_count": 12,
   "metadata": {},
   "outputs": [],
   "source": [
    "import scipy"
   ]
  },
  {
   "cell_type": "markdown",
   "metadata": {},
   "source": [
    "### Scaling File Loading"
   ]
  },
  {
   "cell_type": "code",
   "execution_count": 13,
   "metadata": {},
   "outputs": [],
   "source": [
    "def _worker_part(filename, part, n_parts, rows_per_part, start_idx, stop_idx):\n",
    "    ## Divide rows into n_workers parts & load parts\n",
    "    import h5py\n",
    "    \n",
    "    print(\"Opening \" + str(filename))\n",
    "\n",
    "    f = h5py.File(filename, mode=\"r\")\n",
    "    dset = f[\"mm10\"]\n",
    "    columnptr = dset[\"indptr\"][:]\n",
    "    \n",
    "    \n",
    "    if stop_idx >= len(columnptr):\n",
    "        stop_idx = len(columnptr)-1\n",
    "    \n",
    "    start_ind = columnptr[start_idx]\n",
    "    stop_ind = columnptr[stop_idx]\n",
    "\n",
    "    inds = dset[\"indices\"]\n",
    "    with inds.astype(np.int32):\n",
    "        out = inds[start_ind:stop_ind]\n",
    "    \n",
    "    data = dset[\"data\"]\n",
    "    with data.astype(np.float32):\n",
    "        out_data = data[start_ind:stop_ind]\n",
    "        \n",
    "    ## Load into a sparse Dask array\n",
    "    rowptr = np.zeros((rows_per_part+1,), dtype=cp.int32)\n",
    "    \n",
    "    c = columnptr[start_idx:stop_idx+1]\n",
    "    \n",
    "    cumsum = np.cumsum(np.diff(c))\n",
    "    rowptr[1:] = cumsum\n",
    "    \n",
    "    print(str(rowptr[-1]))\n",
    "    \n",
    "    ret = scipy.sparse.csr_matrix((out_data, out, rowptr), \n",
    "                                   shape=(rows_per_part, dset[\"shape\"][0]),\n",
    "                                  dtype=cp.float32)\n",
    "    return cp.sparse.csr_matrix(ret, dtype=cp.float32)\n",
    "    \n",
    "    "
   ]
  },
  {
   "cell_type": "code",
   "execution_count": 14,
   "metadata": {},
   "outputs": [
    {
     "name": "stdout",
     "output_type": "stream",
     "text": [
      "CPU times: user 15.3 ms, sys: 855 µs, total: 16.1 ms\n",
      "Wall time: 14.4 ms\n"
     ]
    }
   ],
   "source": [
    "%%time\n",
    "import dask\n",
    "import dask.array as da\n",
    "import math\n",
    "\n",
    "nnz = 2624828308\n",
    "nnz = 251544125\n",
    "\n",
    "load_part = dask.delayed(_worker_part)\n",
    "\n",
    "n_parts = 10\n",
    "\n",
    "\n",
    "def create_dask_arrays(dset, filename, n_parts):\n",
    "\n",
    "    final_shape = tuple(dset[\"shape\"][:][::-1])\n",
    "    \n",
    "    total_rows = dset[\"shape\"][1]\n",
    "    rows_per_part = int(total_rows / n_parts)\n",
    "\n",
    "    out_arrs = []\n",
    "    for part in range(n_parts):\n",
    "\n",
    "        if rows_per_part * part > total_rows:\n",
    "            rows_per_part = total_rows - (rows_per_part * part)\n",
    "\n",
    "        start_idx = part * rows_per_part\n",
    "        stop_idx = start_idx + rows_per_part\n",
    "        out_arrs.append(da.from_delayed(load_part(filename, part, n_parts, rows_per_part, start_idx, stop_idx),\n",
    "                                        dtype=cp.float32, \n",
    "                                        shape=(rows_per_part, final_shape[1])))\n",
    "    return out_arrs\n",
    "\n",
    "\n",
    "final_arr = da.concatenate(create_dask_arrays(dset, one_mil_file, n_parts))\n",
    "final_arr = final_arr.persist()"
   ]
  },
  {
   "cell_type": "code",
   "execution_count": 15,
   "metadata": {},
   "outputs": [],
   "source": [
    "def conv_to_cp_csr(x):\n",
    "    \n",
    "    print(str(type(x)))\n",
    "    indptr = cp.array(x.indptr)\n",
    "    indices = cp.array(x.indices)\n",
    "    data = cp.array(x.data)\n",
    "    \n",
    "    return cp.sparse.csr_matrix((data, indices, indptr))\n",
    "\n",
    "# final_arr = final_arr.map_blocks(conv_to_cp_csr, meta=cp.sparse.csr_matrix(cp.zeros(1))).astype(cp.float32)"
   ]
  },
  {
   "cell_type": "code",
   "execution_count": null,
   "metadata": {},
   "outputs": [],
   "source": []
  },
  {
   "cell_type": "code",
   "execution_count": 16,
   "metadata": {},
   "outputs": [],
   "source": [
    "final_arr = final_arr.map_blocks(lambda x: cp.sparse.csr_matrix(rapids_scanpy_funcs.filter_cells(x, min_genes=200, max_genes=6000)), \n",
    "                                 meta=cp.sparse.csr_matrix(cp.zeros(1)))"
   ]
  },
  {
   "cell_type": "code",
   "execution_count": null,
   "metadata": {},
   "outputs": [],
   "source": [
    "%%time\n",
    "final_arr = final_arr.persist()\n",
    "final_arr.compute_chunk_sizes()"
   ]
  },
  {
   "cell_type": "code",
   "execution_count": 18,
   "metadata": {},
   "outputs": [
    {
     "data": {
      "text/plain": [
       "cupyx.scipy.sparse.csr.csr_matrix"
      ]
     },
     "execution_count": 18,
     "metadata": {},
     "output_type": "execute_result"
    }
   ],
   "source": [
    "type(final_arr[0].compute())"
   ]
  },
  {
   "cell_type": "code",
   "execution_count": 17,
   "metadata": {},
   "outputs": [],
   "source": [
    "def perf_sum(x):\n",
    "    print(str(type(x)))\n",
    "    return cp.sparse.csr_matrix(x.get()).sum(axis=0)"
   ]
  },
  {
   "cell_type": "code",
   "execution_count": 18,
   "metadata": {},
   "outputs": [],
   "source": [
    "import dask.array as da"
   ]
  },
  {
   "cell_type": "code",
   "execution_count": 19,
   "metadata": {},
   "outputs": [],
   "source": [
    "gene_counts = final_arr.map_blocks(perf_sum, meta=cp.sparse.csr_matrix(cp.zeros(1))).persist()"
   ]
  },
  {
   "cell_type": "code",
   "execution_count": 27,
   "metadata": {},
   "outputs": [
    {
     "data": {
      "text/html": [
       "<table>\n",
       "<tr>\n",
       "<td>\n",
       "<table>\n",
       "  <thead>\n",
       "    <tr><td> </td><th> Array </th><th> Chunk </th></tr>\n",
       "  </thead>\n",
       "  <tbody>\n",
       "    <tr><th> Bytes </th><td> 289.24 GB </td> <td> 29.05 GB </td></tr>\n",
       "    <tr><th> Shape </th><td> (1291330, 27998) </td> <td> (129676, 27998) </td></tr>\n",
       "    <tr><th> Count </th><td> 10 Tasks </td><td> 10 Chunks </td></tr>\n",
       "    <tr><th> Type </th><td> float64 </td><td> numpy.ndarray </td></tr>\n",
       "  </tbody>\n",
       "</table>\n",
       "</td>\n",
       "<td>\n",
       "<svg width=\"79\" height=\"170\" style=\"stroke:rgb(0,0,0);stroke-width:1\" >\n",
       "\n",
       "  <!-- Horizontal lines -->\n",
       "  <line x1=\"0\" y1=\"0\" x2=\"29\" y2=\"0\" style=\"stroke-width:2\" />\n",
       "  <line x1=\"0\" y1=\"12\" x2=\"29\" y2=\"12\" />\n",
       "  <line x1=\"0\" y1=\"24\" x2=\"29\" y2=\"24\" />\n",
       "  <line x1=\"0\" y1=\"36\" x2=\"29\" y2=\"36\" />\n",
       "  <line x1=\"0\" y1=\"48\" x2=\"29\" y2=\"48\" />\n",
       "  <line x1=\"0\" y1=\"60\" x2=\"29\" y2=\"60\" />\n",
       "  <line x1=\"0\" y1=\"72\" x2=\"29\" y2=\"72\" />\n",
       "  <line x1=\"0\" y1=\"84\" x2=\"29\" y2=\"84\" />\n",
       "  <line x1=\"0\" y1=\"96\" x2=\"29\" y2=\"96\" />\n",
       "  <line x1=\"0\" y1=\"108\" x2=\"29\" y2=\"108\" />\n",
       "  <line x1=\"0\" y1=\"120\" x2=\"29\" y2=\"120\" style=\"stroke-width:2\" />\n",
       "\n",
       "  <!-- Vertical lines -->\n",
       "  <line x1=\"0\" y1=\"0\" x2=\"0\" y2=\"120\" style=\"stroke-width:2\" />\n",
       "  <line x1=\"29\" y1=\"0\" x2=\"29\" y2=\"120\" style=\"stroke-width:2\" />\n",
       "\n",
       "  <!-- Colored Rectangle -->\n",
       "  <polygon points=\"0.000000,0.000000 29.488329,0.000000 29.488329,120.000000 0.000000,120.000000\" style=\"fill:#ECB172A0;stroke-width:0\"/>\n",
       "\n",
       "  <!-- Text -->\n",
       "  <text x=\"14.744165\" y=\"140.000000\" font-size=\"1.0rem\" font-weight=\"100\" text-anchor=\"middle\" >27998</text>\n",
       "  <text x=\"49.488329\" y=\"60.000000\" font-size=\"1.0rem\" font-weight=\"100\" text-anchor=\"middle\" transform=\"rotate(-90,49.488329,60.000000)\">1291330</text>\n",
       "</svg>\n",
       "</td>\n",
       "</tr>\n",
       "</table>"
      ],
      "text/plain": [
       "dask.array<perf_sum, shape=(1291330, 27998), dtype=float64, chunksize=(129676, 27998), chunktype=numpy.ndarray>"
      ]
     },
     "execution_count": 27,
     "metadata": {},
     "output_type": "execute_result"
    }
   ],
   "source": [
    "gene_counts"
   ]
  },
  {
   "cell_type": "code",
   "execution_count": 28,
   "metadata": {},
   "outputs": [],
   "source": [
    "gene_counts = gene_counts.persist()"
   ]
  },
  {
   "cell_type": "code",
   "execution_count": 29,
   "metadata": {},
   "outputs": [
    {
     "name": "stdout",
     "output_type": "stream",
     "text": [
      "CPU times: user 33.6 ms, sys: 8.09 ms, total: 41.7 ms\n",
      "Wall time: 39.3 ms\n"
     ]
    }
   ],
   "source": [
    "%%time\n",
    "gene_counts = gene_counts.map_blocks(lambda x: x.get(), meta=cp.sparse.csr_matrix(cp.zeros(1))).compute().sum(axis=0) > 0"
   ]
  },
  {
   "cell_type": "code",
   "execution_count": 30,
   "metadata": {},
   "outputs": [],
   "source": [
    "def _filter_genes(sparse_gpu_array, thr):\n",
    "    return sparse_gpu_array[:,thr]\n",
    "\n",
    "final_arr = final_arr.map_blocks(lambda x: cp.sparse.csr_matrix(_filter_genes(x.get(), gene_counts)), meta=cp.sparse.csr_matrix(cp.zeros(1)))"
   ]
  },
  {
   "cell_type": "code",
   "execution_count": 31,
   "metadata": {},
   "outputs": [],
   "source": [
    "final_arr = final_arr.persist()"
   ]
  },
  {
   "cell_type": "code",
   "execution_count": 32,
   "metadata": {},
   "outputs": [
    {
     "name": "stdout",
     "output_type": "stream",
     "text": [
      "CPU times: user 382 ms, sys: 51.5 ms, total: 434 ms\n",
      "Wall time: 5.41 s\n"
     ]
    },
    {
     "data": {
      "text/html": [
       "<table>\n",
       "<tr>\n",
       "<td>\n",
       "<table>\n",
       "  <thead>\n",
       "    <tr><td> </td><th> Array </th><th> Chunk </th></tr>\n",
       "  </thead>\n",
       "  <tbody>\n",
       "    <tr><th> Bytes </th><td> 247.96 GB </td> <td> 24.90 GB </td></tr>\n",
       "    <tr><th> Shape </th><td> (1291330, 24002) </td> <td> (129676, 24002) </td></tr>\n",
       "    <tr><th> Count </th><td> 10 Tasks </td><td> 10 Chunks </td></tr>\n",
       "    <tr><th> Type </th><td> float64 </td><td> numpy.ndarray </td></tr>\n",
       "  </tbody>\n",
       "</table>\n",
       "</td>\n",
       "<td>\n",
       "<svg width=\"78\" height=\"170\" style=\"stroke:rgb(0,0,0);stroke-width:1\" >\n",
       "\n",
       "  <!-- Horizontal lines -->\n",
       "  <line x1=\"0\" y1=\"0\" x2=\"28\" y2=\"0\" style=\"stroke-width:2\" />\n",
       "  <line x1=\"0\" y1=\"12\" x2=\"28\" y2=\"12\" />\n",
       "  <line x1=\"0\" y1=\"24\" x2=\"28\" y2=\"24\" />\n",
       "  <line x1=\"0\" y1=\"36\" x2=\"28\" y2=\"36\" />\n",
       "  <line x1=\"0\" y1=\"48\" x2=\"28\" y2=\"48\" />\n",
       "  <line x1=\"0\" y1=\"60\" x2=\"28\" y2=\"60\" />\n",
       "  <line x1=\"0\" y1=\"72\" x2=\"28\" y2=\"72\" />\n",
       "  <line x1=\"0\" y1=\"84\" x2=\"28\" y2=\"84\" />\n",
       "  <line x1=\"0\" y1=\"96\" x2=\"28\" y2=\"96\" />\n",
       "  <line x1=\"0\" y1=\"108\" x2=\"28\" y2=\"108\" />\n",
       "  <line x1=\"0\" y1=\"120\" x2=\"28\" y2=\"120\" style=\"stroke-width:2\" />\n",
       "\n",
       "  <!-- Vertical lines -->\n",
       "  <line x1=\"0\" y1=\"0\" x2=\"0\" y2=\"120\" style=\"stroke-width:2\" />\n",
       "  <line x1=\"28\" y1=\"0\" x2=\"28\" y2=\"120\" style=\"stroke-width:2\" />\n",
       "\n",
       "  <!-- Colored Rectangle -->\n",
       "  <polygon points=\"0.000000,0.000000 28.621212,0.000000 28.621212,120.000000 0.000000,120.000000\" style=\"fill:#ECB172A0;stroke-width:0\"/>\n",
       "\n",
       "  <!-- Text -->\n",
       "  <text x=\"14.310606\" y=\"140.000000\" font-size=\"1.0rem\" font-weight=\"100\" text-anchor=\"middle\" >24002</text>\n",
       "  <text x=\"48.621212\" y=\"60.000000\" font-size=\"1.0rem\" font-weight=\"100\" text-anchor=\"middle\" transform=\"rotate(-90,48.621212,60.000000)\">1291330</text>\n",
       "</svg>\n",
       "</td>\n",
       "</tr>\n",
       "</table>"
      ],
      "text/plain": [
       "dask.array<lambda, shape=(1291330, 24002), dtype=float64, chunksize=(129676, 24002), chunktype=numpy.ndarray>"
      ]
     },
     "execution_count": 32,
     "metadata": {},
     "output_type": "execute_result"
    }
   ],
   "source": [
    "%%time\n",
    "final_arr.compute_chunk_sizes()"
   ]
  },
  {
   "cell_type": "code",
   "execution_count": 33,
   "metadata": {},
   "outputs": [],
   "source": [
    "final_arr = final_arr.map_blocks(lambda x:  rapids_scanpy_funcs.normalize_total(x.get(), target_sum=1e4), meta=cp.sparse.csr_matrix(cp.zeros(1)))"
   ]
  },
  {
   "cell_type": "code",
   "execution_count": 34,
   "metadata": {},
   "outputs": [
    {
     "data": {
      "text/html": [
       "<table>\n",
       "<tr>\n",
       "<td>\n",
       "<table>\n",
       "  <thead>\n",
       "    <tr><td> </td><th> Array </th><th> Chunk </th></tr>\n",
       "  </thead>\n",
       "  <tbody>\n",
       "    <tr><th> Bytes </th><td> 247.96 GB </td> <td> 24.90 GB </td></tr>\n",
       "    <tr><th> Shape </th><td> (1291330, 24002) </td> <td> (129676, 24002) </td></tr>\n",
       "    <tr><th> Count </th><td> 20 Tasks </td><td> 10 Chunks </td></tr>\n",
       "    <tr><th> Type </th><td> float64 </td><td> numpy.ndarray </td></tr>\n",
       "  </tbody>\n",
       "</table>\n",
       "</td>\n",
       "<td>\n",
       "<svg width=\"78\" height=\"170\" style=\"stroke:rgb(0,0,0);stroke-width:1\" >\n",
       "\n",
       "  <!-- Horizontal lines -->\n",
       "  <line x1=\"0\" y1=\"0\" x2=\"28\" y2=\"0\" style=\"stroke-width:2\" />\n",
       "  <line x1=\"0\" y1=\"12\" x2=\"28\" y2=\"12\" />\n",
       "  <line x1=\"0\" y1=\"24\" x2=\"28\" y2=\"24\" />\n",
       "  <line x1=\"0\" y1=\"36\" x2=\"28\" y2=\"36\" />\n",
       "  <line x1=\"0\" y1=\"48\" x2=\"28\" y2=\"48\" />\n",
       "  <line x1=\"0\" y1=\"60\" x2=\"28\" y2=\"60\" />\n",
       "  <line x1=\"0\" y1=\"72\" x2=\"28\" y2=\"72\" />\n",
       "  <line x1=\"0\" y1=\"84\" x2=\"28\" y2=\"84\" />\n",
       "  <line x1=\"0\" y1=\"96\" x2=\"28\" y2=\"96\" />\n",
       "  <line x1=\"0\" y1=\"108\" x2=\"28\" y2=\"108\" />\n",
       "  <line x1=\"0\" y1=\"120\" x2=\"28\" y2=\"120\" style=\"stroke-width:2\" />\n",
       "\n",
       "  <!-- Vertical lines -->\n",
       "  <line x1=\"0\" y1=\"0\" x2=\"0\" y2=\"120\" style=\"stroke-width:2\" />\n",
       "  <line x1=\"28\" y1=\"0\" x2=\"28\" y2=\"120\" style=\"stroke-width:2\" />\n",
       "\n",
       "  <!-- Colored Rectangle -->\n",
       "  <polygon points=\"0.000000,0.000000 28.621212,0.000000 28.621212,120.000000 0.000000,120.000000\" style=\"fill:#ECB172A0;stroke-width:0\"/>\n",
       "\n",
       "  <!-- Text -->\n",
       "  <text x=\"14.310606\" y=\"140.000000\" font-size=\"1.0rem\" font-weight=\"100\" text-anchor=\"middle\" >24002</text>\n",
       "  <text x=\"48.621212\" y=\"60.000000\" font-size=\"1.0rem\" font-weight=\"100\" text-anchor=\"middle\" transform=\"rotate(-90,48.621212,60.000000)\">1291330</text>\n",
       "</svg>\n",
       "</td>\n",
       "</tr>\n",
       "</table>"
      ],
      "text/plain": [
       "dask.array<lambda, shape=(1291330, 24002), dtype=float64, chunksize=(129676, 24002), chunktype=numpy.ndarray>"
      ]
     },
     "execution_count": 34,
     "metadata": {},
     "output_type": "execute_result"
    }
   ],
   "source": [
    "%%time\n",
    "final_arr.compute_chunk_sizes()"
   ]
  },
  {
   "cell_type": "code",
   "execution_count": 38,
   "metadata": {},
   "outputs": [],
   "source": [
    "final_arr = final_arr.map_blocks(lambda x: x.log1p(), meta=cp.sparse.csr_matrix(cp.zeros(1)))"
   ]
  },
  {
   "cell_type": "code",
   "execution_count": 39,
   "metadata": {},
   "outputs": [
    {
     "name": "stdout",
     "output_type": "stream",
     "text": [
      "CPU times: user 1.8 s, sys: 275 ms, total: 2.08 s\n",
      "Wall time: 32.6 s\n"
     ]
    },
    {
     "data": {
      "text/html": [
       "<table>\n",
       "<tr>\n",
       "<td>\n",
       "<table>\n",
       "  <thead>\n",
       "    <tr><td> </td><th> Array </th><th> Chunk </th></tr>\n",
       "  </thead>\n",
       "  <tbody>\n",
       "    <tr><th> Bytes </th><td> 247.96 GB </td> <td> 24.90 GB </td></tr>\n",
       "    <tr><th> Shape </th><td> (1291330, 24002) </td> <td> (129676, 24002) </td></tr>\n",
       "    <tr><th> Count </th><td> 20 Tasks </td><td> 10 Chunks </td></tr>\n",
       "    <tr><th> Type </th><td> float64 </td><td> numpy.ndarray </td></tr>\n",
       "  </tbody>\n",
       "</table>\n",
       "</td>\n",
       "<td>\n",
       "<svg width=\"78\" height=\"170\" style=\"stroke:rgb(0,0,0);stroke-width:1\" >\n",
       "\n",
       "  <!-- Horizontal lines -->\n",
       "  <line x1=\"0\" y1=\"0\" x2=\"28\" y2=\"0\" style=\"stroke-width:2\" />\n",
       "  <line x1=\"0\" y1=\"12\" x2=\"28\" y2=\"12\" />\n",
       "  <line x1=\"0\" y1=\"24\" x2=\"28\" y2=\"24\" />\n",
       "  <line x1=\"0\" y1=\"36\" x2=\"28\" y2=\"36\" />\n",
       "  <line x1=\"0\" y1=\"48\" x2=\"28\" y2=\"48\" />\n",
       "  <line x1=\"0\" y1=\"60\" x2=\"28\" y2=\"60\" />\n",
       "  <line x1=\"0\" y1=\"72\" x2=\"28\" y2=\"72\" />\n",
       "  <line x1=\"0\" y1=\"84\" x2=\"28\" y2=\"84\" />\n",
       "  <line x1=\"0\" y1=\"96\" x2=\"28\" y2=\"96\" />\n",
       "  <line x1=\"0\" y1=\"108\" x2=\"28\" y2=\"108\" />\n",
       "  <line x1=\"0\" y1=\"120\" x2=\"28\" y2=\"120\" style=\"stroke-width:2\" />\n",
       "\n",
       "  <!-- Vertical lines -->\n",
       "  <line x1=\"0\" y1=\"0\" x2=\"0\" y2=\"120\" style=\"stroke-width:2\" />\n",
       "  <line x1=\"28\" y1=\"0\" x2=\"28\" y2=\"120\" style=\"stroke-width:2\" />\n",
       "\n",
       "  <!-- Colored Rectangle -->\n",
       "  <polygon points=\"0.000000,0.000000 28.621212,0.000000 28.621212,120.000000 0.000000,120.000000\" style=\"fill:#ECB172A0;stroke-width:0\"/>\n",
       "\n",
       "  <!-- Text -->\n",
       "  <text x=\"14.310606\" y=\"140.000000\" font-size=\"1.0rem\" font-weight=\"100\" text-anchor=\"middle\" >24002</text>\n",
       "  <text x=\"48.621212\" y=\"60.000000\" font-size=\"1.0rem\" font-weight=\"100\" text-anchor=\"middle\" transform=\"rotate(-90,48.621212,60.000000)\">1291330</text>\n",
       "</svg>\n",
       "</td>\n",
       "</tr>\n",
       "</table>"
      ],
      "text/plain": [
       "dask.array<lambda, shape=(1291330, 24002), dtype=float64, chunksize=(129676, 24002), chunktype=numpy.ndarray>"
      ]
     },
     "execution_count": 39,
     "metadata": {},
     "output_type": "execute_result"
    }
   ],
   "source": [
    "%%time\n",
    "final_arr.compute_chunk_sizes()"
   ]
  },
  {
   "cell_type": "code",
   "execution_count": 40,
   "metadata": {},
   "outputs": [
    {
     "data": {
      "text/plain": [
       "{'tcp://127.0.0.1:34593': (\"('lambda-83c45491caf52575a14faaa3910091b7', 0, 0)\",\n",
       "  \"('lambda-dd81996c1b37445a11a06b9523e9cbbd', 0, 0)\",\n",
       "  \"('lambda-2cd89a3ca607d5c326ec8f5f61c745a0', 0, 0)\",\n",
       "  \"('lambda-2cd89a3ca607d5c326ec8f5f61c745a0', 8, 0)\",\n",
       "  \"('lambda-83c45491caf52575a14faaa3910091b7', 9, 0)\",\n",
       "  \"('perf_sum-1fc4a9061d0f97d16e4454eaaa973098', 0, 0)\",\n",
       "  \"('lambda-83c45491caf52575a14faaa3910091b7', 8, 0)\"),\n",
       " 'tcp://127.0.0.1:36589': (\"('perf_sum-1fc4a9061d0f97d16e4454eaaa973098', 1, 0)\",\n",
       "  \"('lambda-dd81996c1b37445a11a06b9523e9cbbd', 1, 0)\",\n",
       "  \"('lambda-83c45491caf52575a14faaa3910091b7', 8, 0)\",\n",
       "  \"('lambda-83c45491caf52575a14faaa3910091b7', 1, 0)\",\n",
       "  \"('lambda-2cd89a3ca607d5c326ec8f5f61c745a0', 1, 0)\"),\n",
       " 'tcp://127.0.0.1:37667': (\"('perf_sum-1fc4a9061d0f97d16e4454eaaa973098', 2, 0)\",\n",
       "  \"('lambda-83c45491caf52575a14faaa3910091b7', 2, 0)\",\n",
       "  \"('lambda-2cd89a3ca607d5c326ec8f5f61c745a0', 2, 0)\",\n",
       "  \"('lambda-dd81996c1b37445a11a06b9523e9cbbd', 2, 0)\"),\n",
       " 'tcp://127.0.0.1:38491': (\"('lambda-2cd89a3ca607d5c326ec8f5f61c745a0', 3, 0)\",\n",
       "  \"('lambda-dd81996c1b37445a11a06b9523e9cbbd', 3, 0)\",\n",
       "  \"('lambda-83c45491caf52575a14faaa3910091b7', 3, 0)\",\n",
       "  \"('perf_sum-1fc4a9061d0f97d16e4454eaaa973098', 3, 0)\"),\n",
       " 'tcp://127.0.0.1:40523': (\"('lambda-83c45491caf52575a14faaa3910091b7', 4, 0)\",\n",
       "  \"('perf_sum-1fc4a9061d0f97d16e4454eaaa973098', 4, 0)\",\n",
       "  \"('lambda-dd81996c1b37445a11a06b9523e9cbbd', 4, 0)\",\n",
       "  \"('lambda-2cd89a3ca607d5c326ec8f5f61c745a0', 4, 0)\",\n",
       "  \"('lambda-dd81996c1b37445a11a06b9523e9cbbd', 8, 0)\",\n",
       "  \"('perf_sum-1fc4a9061d0f97d16e4454eaaa973098', 8, 0)\",\n",
       "  \"('lambda-83c45491caf52575a14faaa3910091b7', 8, 0)\"),\n",
       " 'tcp://127.0.0.1:43049': (\"('lambda-83c45491caf52575a14faaa3910091b7', 5, 0)\",\n",
       "  \"('lambda-dd81996c1b37445a11a06b9523e9cbbd', 5, 0)\",\n",
       "  \"('perf_sum-1fc4a9061d0f97d16e4454eaaa973098', 5, 0)\",\n",
       "  \"('lambda-2cd89a3ca607d5c326ec8f5f61c745a0', 5, 0)\"),\n",
       " 'tcp://127.0.0.1:46539': (\"('lambda-2cd89a3ca607d5c326ec8f5f61c745a0', 6, 0)\",\n",
       "  \"('lambda-dd81996c1b37445a11a06b9523e9cbbd', 6, 0)\",\n",
       "  \"('lambda-83c45491caf52575a14faaa3910091b7', 6, 0)\",\n",
       "  \"('perf_sum-1fc4a9061d0f97d16e4454eaaa973098', 6, 0)\",\n",
       "  \"('lambda-dd81996c1b37445a11a06b9523e9cbbd', 7, 0)\"),\n",
       " 'tcp://127.0.0.1:46555': (\"('perf_sum-1fc4a9061d0f97d16e4454eaaa973098', 9, 0)\",\n",
       "  \"('lambda-dd81996c1b37445a11a06b9523e9cbbd', 9, 0)\",\n",
       "  \"('lambda-2cd89a3ca607d5c326ec8f5f61c745a0', 9, 0)\",\n",
       "  \"('lambda-83c45491caf52575a14faaa3910091b7', 7, 0)\",\n",
       "  \"('lambda-83c45491caf52575a14faaa3910091b7', 9, 0)\",\n",
       "  \"('lambda-dd81996c1b37445a11a06b9523e9cbbd', 7, 0)\",\n",
       "  \"('lambda-2cd89a3ca607d5c326ec8f5f61c745a0', 7, 0)\",\n",
       "  \"('perf_sum-1fc4a9061d0f97d16e4454eaaa973098', 7, 0)\")}"
      ]
     },
     "execution_count": 40,
     "metadata": {},
     "output_type": "execute_result"
    }
   ],
   "source": [
    "client.has_what()"
   ]
  },
  {
   "cell_type": "markdown",
   "metadata": {},
   "source": [
    "We maintain the index of unique cells and genes in our dataset:"
   ]
  },
  {
   "cell_type": "code",
   "execution_count": null,
   "metadata": {},
   "outputs": [],
   "source": [
    "%%time\n",
    "cells = cudf.Series(adata.obs_names)\n",
    "genes = cudf.Series(adata.var_names)"
   ]
  },
  {
   "cell_type": "code",
   "execution_count": null,
   "metadata": {},
   "outputs": [],
   "source": [
    "%%time\n",
    "rows = cp.array(adata.X.indptr)\n",
    "cols = cp.array(adata.X.indices)\n",
    "vals = cp.array(adata.X.data)\n",
    "sparse_gpu_array = cp.sparse.csr_matrix((vals, cols, rows), shape=adata.X.shape)"
   ]
  },
  {
   "cell_type": "markdown",
   "metadata": {},
   "source": [
    "Verify the shape of the resulting sparse matrix"
   ]
  },
  {
   "cell_type": "code",
   "execution_count": null,
   "metadata": {},
   "outputs": [],
   "source": [
    "sparse_gpu_array.shape"
   ]
  },
  {
   "cell_type": "markdown",
   "metadata": {},
   "source": [
    "And the number of non-zero values n the matrix"
   ]
  },
  {
   "cell_type": "code",
   "execution_count": null,
   "metadata": {},
   "outputs": [],
   "source": [
    "sparse_gpu_array.nnz"
   ]
  },
  {
   "cell_type": "code",
   "execution_count": null,
   "metadata": {},
   "outputs": [],
   "source": [
    "data_load_time = time.time()\n",
    "print(\"Total data load and format time: %s\" % (data_load_time-data_load_start))"
   ]
  },
  {
   "cell_type": "markdown",
   "metadata": {},
   "source": [
    "## Preprocessing"
   ]
  },
  {
   "cell_type": "code",
   "execution_count": null,
   "metadata": {},
   "outputs": [],
   "source": [
    "preprocess_start = time.time()"
   ]
  },
  {
   "cell_type": "markdown",
   "metadata": {},
   "source": [
    "### Filter"
   ]
  },
  {
   "cell_type": "markdown",
   "metadata": {},
   "source": [
    "We filter the count matrix to remove cells with an extreme number of genes expressed."
   ]
  },
  {
   "cell_type": "code",
   "execution_count": null,
   "metadata": {},
   "outputs": [],
   "source": [
    "%%time\n",
    "filtered = rapids_scanpy_funcs.filter_cells(sparse_gpu_array, \n",
    "                                            min_genes=min_genes_per_cell, \n",
    "                                            max_genes=max_genes_per_cell,\n",
    "                                            rows_per_batch=20000)"
   ]
  },
  {
   "cell_type": "code",
   "execution_count": null,
   "metadata": {},
   "outputs": [],
   "source": [
    "filtered.shape"
   ]
  },
  {
   "cell_type": "code",
   "execution_count": null,
   "metadata": {},
   "outputs": [],
   "source": [
    "genes"
   ]
  },
  {
   "cell_type": "markdown",
   "metadata": {},
   "source": [
    "Some genes will now have zero expression in all cells. We filter out such genes."
   ]
  },
  {
   "cell_type": "code",
   "execution_count": null,
   "metadata": {},
   "outputs": [],
   "source": [
    "%%time\n",
    "filtered, genes = rapids_scanpy_funcs.filter_genes(filtered, genes, min_cells=1)"
   ]
  },
  {
   "cell_type": "markdown",
   "metadata": {},
   "source": [
    "The size of our count matrix is now reduced."
   ]
  },
  {
   "cell_type": "code",
   "execution_count": null,
   "metadata": {},
   "outputs": [],
   "source": [
    "genes"
   ]
  },
  {
   "cell_type": "markdown",
   "metadata": {},
   "source": [
    "### Normalize"
   ]
  },
  {
   "cell_type": "markdown",
   "metadata": {},
   "source": [
    "We normalize the count matrix so that the total counts in each cell sum to 1e4."
   ]
  },
  {
   "cell_type": "code",
   "execution_count": null,
   "metadata": {},
   "outputs": [],
   "source": [
    "%%time\n",
    "normalized = rapids_scanpy_funcs.normalize_total(filtered, target_sum=1e4)"
   ]
  },
  {
   "cell_type": "markdown",
   "metadata": {},
   "source": [
    "Next, we log transform the count matrix."
   ]
  },
  {
   "cell_type": "code",
   "execution_count": null,
   "metadata": {},
   "outputs": [],
   "source": [
    "%%time\n",
    "normalized = normalized.log1p()"
   ]
  },
  {
   "cell_type": "markdown",
   "metadata": {},
   "source": [
    "### Select Most Variable Genes"
   ]
  },
  {
   "cell_type": "markdown",
   "metadata": {},
   "source": [
    "We convert the count matrix to an annData object."
   ]
  },
  {
   "cell_type": "code",
   "execution_count": null,
   "metadata": {},
   "outputs": [],
   "source": [
    "genes"
   ]
  },
  {
   "cell_type": "code",
   "execution_count": null,
   "metadata": {},
   "outputs": [],
   "source": [
    "%%time\n",
    "adata = anndata.AnnData(normalized.get())\n",
    "adata.var_names = genes.to_pandas()"
   ]
  },
  {
   "cell_type": "markdown",
   "metadata": {},
   "source": [
    "Using scanpy, we filter the count matrix to retain only the 5000 most variable genes."
   ]
  },
  {
   "cell_type": "code",
   "execution_count": null,
   "metadata": {},
   "outputs": [],
   "source": [
    "%%time\n",
    "sc.pp.highly_variable_genes(adata, n_top_genes=10, flavor=\"cell_ranger\")\n",
    "adata = adata[:, adata.var.highly_variable]"
   ]
  },
  {
   "cell_type": "markdown",
   "metadata": {},
   "source": [
    "### Regress out confounding factors (number of counts, ribosomal gene expression)"
   ]
  },
  {
   "cell_type": "markdown",
   "metadata": {},
   "source": [
    "We can now perform regression on the count matrix to correct for confounding factors -  for example purposes, we use the number of counts and the expression of ribosomal genes. Many workflows use the expression of mitochondrial genes (named starting with `MT-`).\n",
    "\n",
    "Before regression, we save the 'raw' expression values of the ACE2 and TMPRSS2 genes to use for labeling cells afterward. We will also store the expression of n epithelial marker gene (EPCAM)."
   ]
  },
  {
   "cell_type": "code",
   "execution_count": null,
   "metadata": {},
   "outputs": [],
   "source": [
    "genes[genes == \"ACE2\"]"
   ]
  },
  {
   "cell_type": "code",
   "execution_count": null,
   "metadata": {},
   "outputs": [],
   "source": [
    "%%time\n",
    "tmp_norm = normalized.tocsc()\n",
    "ACE2_raw = tmp_norm[:, genes[genes == \"ACE2\"].index[0]].todense().ravel()\n",
    "TMPRSS2_raw = tmp_norm[:, genes[genes == \"TMPRSS2\"].index[0]].todense().ravel()\n",
    "EPCAM_raw = tmp_norm[:, genes[genes == \"EPCAM\"].index[0]].todense().ravel()\n",
    "\n",
    "del tmp_norm"
   ]
  },
  {
   "cell_type": "code",
   "execution_count": null,
   "metadata": {},
   "outputs": [],
   "source": [
    "genes = adata.var_names\n",
    "ribo_genes = adata.var_names.str.startswith(RIBO_GENE_PREFIX)"
   ]
  },
  {
   "cell_type": "code",
   "execution_count": null,
   "metadata": {},
   "outputs": [],
   "source": [
    "%%time\n",
    "filtered = adata.X"
   ]
  },
  {
   "cell_type": "markdown",
   "metadata": {},
   "source": [
    "We now calculate the total counts and the percentage of ribosomal counts for each cell."
   ]
  },
  {
   "cell_type": "code",
   "execution_count": null,
   "metadata": {},
   "outputs": [],
   "source": [
    "%%time\n",
    "n_counts = filtered.sum(axis=1)\n",
    "percent_ribo = (filtered[:,ribo_genes].sum(axis=1) / n_counts).ravel()\n",
    "\n",
    "n_counts = cp.array(n_counts).ravel()\n",
    "percent_ribo = cp.array(percent_ribo).ravel()"
   ]
  },
  {
   "cell_type": "markdown",
   "metadata": {},
   "source": [
    "And perform regression:"
   ]
  },
  {
   "cell_type": "code",
   "execution_count": null,
   "metadata": {},
   "outputs": [],
   "source": [
    "%%time\n",
    "normalized = cp.array(adata.X.todense(), order=\"F\")\n",
    "normalized = rapids_scanpy_funcs.regress_out(normalized, n_counts, percent_ribo)"
   ]
  },
  {
   "cell_type": "markdown",
   "metadata": {},
   "source": [
    "### Scale"
   ]
  },
  {
   "cell_type": "markdown",
   "metadata": {},
   "source": [
    "Finally, we scale the count matrix to obtain a z-score and apply a cutoff value of 10 standard deviations, obtaining the preprocessed count matrix."
   ]
  },
  {
   "cell_type": "code",
   "execution_count": null,
   "metadata": {},
   "outputs": [],
   "source": [
    "%%time\n",
    "normalized = rapids_scanpy_funcs.scale(normalized, max_value=10)"
   ]
  },
  {
   "cell_type": "code",
   "execution_count": null,
   "metadata": {},
   "outputs": [],
   "source": [
    "preprocess_time = time.time()\n",
    "print(\"Total Preprocessing time: %s\" % (preprocess_time-preprocess_start))"
   ]
  },
  {
   "cell_type": "markdown",
   "metadata": {},
   "source": [
    "## Cluster & Visualize"
   ]
  },
  {
   "cell_type": "code",
   "execution_count": null,
   "metadata": {},
   "outputs": [],
   "source": [
    "cluster_start = time.time()"
   ]
  },
  {
   "cell_type": "markdown",
   "metadata": {},
   "source": [
    "We store the preprocessed count matrix as an AnnData object, which is currently in host memory. We also add the expression levels of the marker genes as observations to the annData object."
   ]
  },
  {
   "cell_type": "code",
   "execution_count": null,
   "metadata": {},
   "outputs": [],
   "source": [
    "%%time\n",
    "\n",
    "var_names = adata.var_names\n",
    "adata = anndata.AnnData(normalized.get())\n",
    "adata.var_names = var_names\n",
    "adata.obs[\"ACE2_raw\"] = ACE2_raw.get()\n",
    "adata.obs[\"TMPRSS2_raw\"] = TMPRSS2_raw.get()\n",
    "adata.obs[\"EPCAM_raw\"] = EPCAM_raw.get()"
   ]
  },
  {
   "cell_type": "code",
   "execution_count": null,
   "metadata": {},
   "outputs": [],
   "source": [
    "adata.shape"
   ]
  },
  {
   "cell_type": "markdown",
   "metadata": {},
   "source": [
    "### Reduce"
   ]
  },
  {
   "cell_type": "markdown",
   "metadata": {},
   "source": [
    "We use PCA to reduce the dimensionality of the matrix to its top 50 principal components."
   ]
  },
  {
   "cell_type": "code",
   "execution_count": null,
   "metadata": {},
   "outputs": [],
   "source": [
    "%%time\n",
    "adata.obsm[\"X_pca\"] = PCA(n_components=n_components).fit_transform(adata.X)"
   ]
  },
  {
   "cell_type": "code",
   "execution_count": null,
   "metadata": {},
   "outputs": [],
   "source": [
    "adata.obsm[\"X_pca\"].shape"
   ]
  },
  {
   "cell_type": "markdown",
   "metadata": {},
   "source": [
    "### TSNE + K-means"
   ]
  },
  {
   "cell_type": "markdown",
   "metadata": {},
   "source": [
    "We next use t-SNE on the top 20 principal components to visualize the cells in two dimensions."
   ]
  },
  {
   "cell_type": "code",
   "execution_count": null,
   "metadata": {},
   "outputs": [],
   "source": [
    "%%time\n",
    "adata.obsm['X_tsne'] = TSNE().fit_transform(adata.obsm[\"X_pca\"][:,:tsne_n_pcs])"
   ]
  },
  {
   "cell_type": "markdown",
   "metadata": {},
   "source": [
    "We cluster the cells using k-means on the principal components. For example purposes, we set k=20."
   ]
  },
  {
   "cell_type": "code",
   "execution_count": null,
   "metadata": {},
   "outputs": [],
   "source": [
    "%%time\n",
    "kmeans = KMeans(n_clusters=k, random_state=0).fit(adata.obsm['X_pca'])\n",
    "adata.obs['kmeans'] = kmeans.labels_.astype(str)"
   ]
  },
  {
   "cell_type": "markdown",
   "metadata": {},
   "source": [
    "We visualize the cells using t-SNE and label cells by color according to the k-means clustering."
   ]
  },
  {
   "cell_type": "code",
   "execution_count": null,
   "metadata": {},
   "outputs": [],
   "source": [
    "%%time\n",
    "sc.pl.tsne(adata, color=[\"kmeans\"])"
   ]
  },
  {
   "cell_type": "markdown",
   "metadata": {},
   "source": [
    "Separately, we label the cells using the 'raw' expression of the EPCAM, ACE2 and TMPRSS2 marker genes."
   ]
  },
  {
   "cell_type": "code",
   "execution_count": null,
   "metadata": {},
   "outputs": [],
   "source": [
    "%%time\n",
    "sc.pl.tsne(adata, size=4, color=[\"ACE2_raw\"], color_map=\"Blues\", vmax=1, vmin=-0.05)\n",
    "sc.pl.tsne(adata, size=4, color=[\"TMPRSS2_raw\"], color_map=\"Blues\", vmax=1, vmin=-0.05)\n",
    "sc.pl.tsne(adata, size=4, color=[\"EPCAM_raw\"], color_map=\"Reds\", vmax=1,  vmin=-0.05)"
   ]
  },
  {
   "cell_type": "markdown",
   "metadata": {},
   "source": [
    "### UMAP + Louvain"
   ]
  },
  {
   "cell_type": "markdown",
   "metadata": {},
   "source": [
    "We can also visualize the cells using the UMAP algorithm in Rapids. Before UMAP, we need to construct a k-nearest neighbors graph in which each cell is connected to its nearest neighbors. This can be done conveniently using rapids functionality already integrated into Scanpy."
   ]
  },
  {
   "cell_type": "code",
   "execution_count": null,
   "metadata": {},
   "outputs": [],
   "source": [
    "%%time\n",
    "sc.pp.neighbors(adata, n_neighbors=n_neighbors, n_pcs=knn_n_pcs, method='rapids')"
   ]
  },
  {
   "cell_type": "markdown",
   "metadata": {},
   "source": [
    "The UMAP function from Rapids is also integrated into Scanpy."
   ]
  },
  {
   "cell_type": "code",
   "execution_count": null,
   "metadata": {},
   "outputs": [],
   "source": [
    "%%time\n",
    "sc.tl.umap(adata, min_dist=umap_min_dist, spread=umap_spread, method='rapids')"
   ]
  },
  {
   "cell_type": "markdown",
   "metadata": {},
   "source": [
    "Finally, we use the Louvain algorithm for graph-based clustering, once again using the `rapids` option in Scanpy."
   ]
  },
  {
   "cell_type": "code",
   "execution_count": null,
   "metadata": {},
   "outputs": [],
   "source": [
    "%%time\n",
    "sc.tl.louvain(adata, resolution=louvain_resolution, flavor='rapids')"
   ]
  },
  {
   "cell_type": "markdown",
   "metadata": {},
   "source": [
    "We plot the cells using the UMAP visualization, and using the Louvain clusters as labels."
   ]
  },
  {
   "cell_type": "code",
   "execution_count": null,
   "metadata": {},
   "outputs": [],
   "source": [
    "%%time\n",
    "sc.pl.umap(adata, color=[\"louvain\"])"
   ]
  },
  {
   "cell_type": "markdown",
   "metadata": {},
   "source": [
    "We can also view cells using UMAP and labeling by raw EPCAM, ACE2 and TMPRSS2 expression."
   ]
  },
  {
   "cell_type": "code",
   "execution_count": null,
   "metadata": {},
   "outputs": [],
   "source": [
    "%%time\n",
    "sc.pl.umap(adata, size=4,color=[\"ACE2_raw\"], color_map=\"Blues\", vmax=1, vmin=-0.05)\n",
    "sc.pl.umap(adata, size=4, color=[\"TMPRSS2_raw\"], color_map=\"Blues\", vmax=1, vmin=-0.05)\n",
    "sc.pl.umap(adata, size=4, color=[\"EPCAM_raw\"], color_map=\"Reds\", vmax=1, vmin=-0.05)"
   ]
  },
  {
   "cell_type": "code",
   "execution_count": null,
   "metadata": {},
   "outputs": [],
   "source": [
    "cluster_time = time.time()\n",
    "print(\"Total cluster time : %s\" % (cluster_time-cluster_start))"
   ]
  },
  {
   "cell_type": "markdown",
   "metadata": {},
   "source": [
    "## Differential expression analysis"
   ]
  },
  {
   "cell_type": "markdown",
   "metadata": {},
   "source": [
    "Once we have done clustering, we can compute a ranking for the highly differential genes in each cluster. Here we use the Louvain clusters as labels."
   ]
  },
  {
   "cell_type": "code",
   "execution_count": null,
   "metadata": {},
   "outputs": [],
   "source": [
    "cluster_labels = cudf.Series.from_categorical(adata.obs[\"louvain\"].cat)\n",
    "var_names = cudf.Series(var_names)"
   ]
  },
  {
   "cell_type": "markdown",
   "metadata": {},
   "source": [
    "We use logistic regression to identify the top 50 genes distinguishing each cluster."
   ]
  },
  {
   "cell_type": "code",
   "execution_count": null,
   "metadata": {},
   "outputs": [],
   "source": [
    "%%time\n",
    "scores, names, reference = rapids_scanpy_funcs.rank_genes_groups(\n",
    "    normalized, \n",
    "    cluster_labels, \n",
    "    var_names, \n",
    "    n_genes=ranking_n_top_genes, groups='all', reference='rest')"
   ]
  },
  {
   "cell_type": "code",
   "execution_count": null,
   "metadata": {},
   "outputs": [],
   "source": [
    "%%time\n",
    "adata.uns[\"rank_genes_groups\"] = {}\n",
    "adata.uns[\"rank_genes_groups\"][\"params\"] = dict(groupby=\"louvain\", method=\"logreg\", reference=reference, use_raw=False)\n",
    "adata.uns[\"rank_genes_groups\"]['scores'] = scores\n",
    "adata.uns[\"rank_genes_groups\"]['names'] = names\n",
    "sc.pl.rank_genes_groups(adata, n_genes=20)"
   ]
  },
  {
   "cell_type": "markdown",
   "metadata": {},
   "source": [
    "## Create Zoomed View"
   ]
  },
  {
   "cell_type": "markdown",
   "metadata": {},
   "source": [
    "The speedup offered by Rapids makes it easy to interactively re-analyze subsets of cells. To illustrate this, we select epithelial cells (EPCAM+) from the dataset."
   ]
  },
  {
   "cell_type": "code",
   "execution_count": null,
   "metadata": {},
   "outputs": [],
   "source": [
    "reanalysis_start = time.time()"
   ]
  },
  {
   "cell_type": "code",
   "execution_count": null,
   "metadata": {},
   "outputs": [],
   "source": [
    "%%time\n",
    "\n",
    "epcam_cells = EPCAM_raw > 0.0\n",
    "\n",
    "normalized_epcam_cells = normalized[epcam_cells]\n",
    "ACE2_raw_epcam = ACE2_raw[epcam_cells]\n",
    "TMPRSS2_raw_epcam = TMPRSS2_raw[epcam_cells]\n",
    "\n",
    "var_names = adata.var_names\n",
    "adata = anndata.AnnData(normalized_epcam_cells.get())\n",
    "print(adata.X.shape)\n",
    "adata.var_names = var_names\n",
    "adata.obs[\"ACE2_raw\"] = ACE2_raw_epcam.get()\n",
    "adata.obs[\"TMPRSS2_raw\"] = TMPRSS2_raw_epcam.get()"
   ]
  },
  {
   "cell_type": "markdown",
   "metadata": {},
   "source": [
    "We can repeat the dimension reduction, clustering and visualization using this subset of cells in seconds."
   ]
  },
  {
   "cell_type": "code",
   "execution_count": null,
   "metadata": {},
   "outputs": [],
   "source": [
    "%%time\n",
    "\n",
    "adata.obsm[\"X_pca\"] = PCA(n_components=n_components).fit_transform(adata.X)\n",
    "sc.pp.neighbors(adata, n_neighbors=n_neighbors, n_pcs=knn_n_pcs, method='rapids')\n",
    "sc.tl.umap(adata, min_dist=umap_min_dist, spread=umap_spread, method='rapids')\n",
    "sc.tl.louvain(adata, flavor='rapids')\n",
    "\n",
    "sc.pl.umap(adata, color=[\"louvain\"])\n",
    "sc.pl.umap(adata, color=[\"ACE2_raw\"], color_map=\"Blues\", vmax=1, vmin=-0.05)\n",
    "sc.pl.umap(adata, color=[\"TMPRSS2_raw\"], color_map=\"Blues\", vmax=1, vmin=-0.05)"
   ]
  },
  {
   "cell_type": "code",
   "execution_count": null,
   "metadata": {},
   "outputs": [],
   "source": [
    "reanalysis_time = time.time()\n",
    "print(\"Total reanalysis time : %s\" % (reanalysis_time-reanalysis_start))"
   ]
  },
  {
   "cell_type": "code",
   "execution_count": null,
   "metadata": {},
   "outputs": [],
   "source": [
    "print(\"Full time: %s\" % (time.time() - start))"
   ]
  },
  {
   "cell_type": "code",
   "execution_count": null,
   "metadata": {},
   "outputs": [],
   "source": [
    "client.close()\n",
    "cluster.close()"
   ]
  },
  {
   "cell_type": "code",
   "execution_count": null,
   "metadata": {},
   "outputs": [],
   "source": []
  }
 ],
 "metadata": {
  "kernelspec": {
   "display_name": "Python (genomics2)",
   "language": "python",
   "name": "genomics2"
  },
  "language_info": {
   "codemirror_mode": {
    "name": "ipython",
    "version": 3
   },
   "file_extension": ".py",
   "mimetype": "text/x-python",
   "name": "python",
   "nbconvert_exporter": "python",
   "pygments_lexer": "ipython3",
   "version": "3.7.6"
  }
 },
 "nbformat": 4,
 "nbformat_minor": 4
}
